{
 "cells": [
  {
   "cell_type": "code",
   "execution_count": 2,
   "metadata": {},
   "outputs": [],
   "source": [
    "import pandas as pd\n",
    "import os\n",
    "import matplotlib.pyplot as plt\n",
    "import statistics"
   ]
  },
  {
   "cell_type": "code",
   "execution_count": null,
   "metadata": {},
   "outputs": [],
   "source": [
    "print()"
   ]
  },
  {
   "cell_type": "code",
   "execution_count": 3,
   "metadata": {},
   "outputs": [],
   "source": [
    "# Loading dataframe for Frédérique\n",
    "csv_path = r\"okeanos.csv\"\n",
    "df = pd.read_csv(csv_path)"
   ]
  },
  {
   "cell_type": "code",
   "execution_count": 1,
   "metadata": {},
   "outputs": [
    {
     "ename": "NameError",
     "evalue": "name 'os' is not defined",
     "output_type": "error",
     "traceback": [
      "\u001b[1;31m---------------------------------------------------------------------------\u001b[0m",
      "\u001b[1;31mNameError\u001b[0m                                 Traceback (most recent call last)",
      "Cell \u001b[1;32mIn[1], line 2\u001b[0m\n\u001b[0;32m      1\u001b[0m \u001b[38;5;66;03m# Loading dataframe for Jan\u001b[39;00m\n\u001b[1;32m----> 2\u001b[0m cwd \u001b[38;5;241m=\u001b[39m \u001b[43mos\u001b[49m\u001b[38;5;241m.\u001b[39mgetcwd()\n\u001b[0;32m      3\u001b[0m csv_path \u001b[38;5;241m=\u001b[39m cwd\u001b[38;5;241m+\u001b[39m\u001b[38;5;124m\"\u001b[39m\u001b[38;5;124m\\\u001b[39m\u001b[38;5;124mokeanos.csv\u001b[39m\u001b[38;5;124m\"\u001b[39m\n\u001b[0;32m      4\u001b[0m df \u001b[38;5;241m=\u001b[39m pd\u001b[38;5;241m.\u001b[39mread_csv(csv_path)\n",
      "\u001b[1;31mNameError\u001b[0m: name 'os' is not defined"
     ]
    }
   ],
   "source": [
    "# Loading dataframe for Jan\n",
    "cwd = os.getcwd()\n",
    "csv_path = cwd+\"\\okeanos.csv\"\n",
    "df = pd.read_csv(csv_path)"
   ]
  },
  {
   "cell_type": "code",
   "execution_count": 1,
   "metadata": {},
   "outputs": [
    {
     "ename": "NameError",
     "evalue": "name 'df' is not defined",
     "output_type": "error",
     "traceback": [
      "\u001b[1;31m---------------------------------------------------------------------------\u001b[0m",
      "\u001b[1;31mNameError\u001b[0m                                 Traceback (most recent call last)",
      "Cell \u001b[1;32mIn[1], line 2\u001b[0m\n\u001b[0;32m      1\u001b[0m \u001b[38;5;66;03m# Frédérique's boxplots\u001b[39;00m\n\u001b[1;32m----> 2\u001b[0m filtered_df \u001b[38;5;241m=\u001b[39m \u001b[43mdf\u001b[49m\u001b[38;5;241m.\u001b[39mdropna(subset\u001b[38;5;241m=\u001b[39m[\u001b[38;5;124m'\u001b[39m\u001b[38;5;124m500_split\u001b[39m\u001b[38;5;124m'\u001b[39m, \u001b[38;5;124m'\u001b[39m\u001b[38;5;124m2k tijd\u001b[39m\u001b[38;5;124m'\u001b[39m])\n\u001b[0;32m      4\u001b[0m \u001b[38;5;28;01mdef\u001b[39;00m \u001b[38;5;21mentry_to_seconds\u001b[39m(entry):\n\u001b[0;32m      5\u001b[0m     \u001b[38;5;28;01mif\u001b[39;00m pd\u001b[38;5;241m.\u001b[39misna(entry):\n",
      "\u001b[1;31mNameError\u001b[0m: name 'df' is not defined"
     ]
    }
   ],
   "source": [
    "# Frédérique's boxplots\n",
    "filtered_df = df.dropna(subset=['500_split', '2k tijd'])\n",
    "\n",
    "def entry_to_seconds(entry):\n",
    "    if pd.isna(entry):\n",
    "        return None\n",
    "    # Define your processing logic for each type of entry\n",
    "    if ':' and '.' in entry:\n",
    "        # Process entries like '1:47.4'\n",
    "        minutes = pd.to_numeric(entry.split(':')[0])\n",
    "        seconds = pd.to_numeric(entry.split(':')[1])\n",
    "        return minutes * 60 + seconds\n",
    "    if ':' and ',' in entry:\n",
    "        # Process entries like '1:47,4'\n",
    "        minutes = pd.to_numeric(entry.split(':')[0])\n",
    "        seconds = pd.to_numeric(entry.split(':')[1].replace(',', '.'))\n",
    "        return minutes * 60 + seconds\n",
    "    else:\n",
    "        # Process entries like '1.47.6'\n",
    "        minutes = pd.to_numeric(entry.split('.')[0])\n",
    "        seconds = pd.to_numeric(entry.split('.')[1])\n",
    "        little_seconds = pd.to_numeric(entry.split('.')[2])\n",
    "        return minutes * 60 + seconds + little_seconds/100\n",
    "\n",
    "# Convert seconds to wattage\n",
    "def seconds_to_wattage(filtered_df, column_name):\n",
    "    # Apply the process_entry function to the specified column\n",
    "    return 2.8 / filtered_df[column_name].apply(entry_to_seconds) ** 3\n",
    "\n",
    "filtered_df.loc[:, '500_split_wattage']= (\n",
    "    seconds_to_wattage(filtered_df, '500_split')\n",
    ")\n",
    "\n",
    "filtered_df.loc[:, '2k_wattage']= (\n",
    "    seconds_to_wattage(filtered_df, '2k tijd')\n",
    ")\n",
    "\n",
    "filtered_df.loc[:, 'rate_difference'] = (\n",
    "    filtered_df['500_split_wattage'] / filtered_df['2k_wattage']\n",
    ")\n",
    "\n",
    "filtered_df.loc[:, 'difference'] = (\n",
    "    filtered_df['500_split_wattage'] - filtered_df['2k_wattage']\n",
    ")\n",
    "\n",
    "\n",
    "def improvement_by_feature_and_person(filtered_df, feature):\n",
    "    unique_vals = filtered_df[feature].unique()\n",
    "    print(unique_valss)\n",
    "    data = []\n",
    "\n",
    "    for value in unique_vals:\n",
    "        men = filtered_df.loc[(df[feature] == value)]\n",
    "        unique_men = men.naam.drop_duplicates().tolist()\n",
    "        men_df = filtered_df[filtered_df['naam'].isin(unique_men)]\n",
    "        men_improvement = men_df['rate_difference'].tolist()\n",
    "        data.append(men_improvement)\n",
    "\n",
    "    plt.boxplot(data, labels=unique_values, notch=None, vert=None, patch_artist=None, widths=None)\n",
    "    plt.show()\n",
    "\n",
    "improvement_by_feature_and_person(filtered_df, 'zone')"
   ]
  },
  {
   "cell_type": "code",
   "execution_count": null,
   "metadata": {},
   "outputs": [],
   "source": []
  }
 ],
 "metadata": {
  "kernelspec": {
   "display_name": "Python 3 (ipykernel)",
   "language": "python",
   "name": "python3"
  },
  "language_info": {
   "codemirror_mode": {
    "name": "ipython",
    "version": 3
   },
   "file_extension": ".py",
   "mimetype": "text/x-python",
   "name": "python",
   "nbconvert_exporter": "python",
   "pygments_lexer": "ipython3",
   "version": "3.11.5"
  }
 },
 "nbformat": 4,
 "nbformat_minor": 4
}
